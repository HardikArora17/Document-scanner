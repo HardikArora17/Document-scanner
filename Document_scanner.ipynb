{
 "cells": [
  {
   "cell_type": "code",
   "execution_count": 7,
   "metadata": {},
   "outputs": [],
   "source": [
    "import cv2\n",
    "import numpy as np\n",
    "import matplotlib.pyplot as plt\n",
    "from skimage.filters import threshold_local\n",
    "\n"
   ]
  },
  {
   "cell_type": "code",
   "execution_count": 8,
   "metadata": {},
   "outputs": [],
   "source": [
    "def order_points(pts):\n",
    "    rect=np.zeros((4,2),dtype=\"float32\")\n",
    "    pts_sum=np.sum(pts,axis=1)\n",
    "    rect[0]=pts[np.argmin(pts_sum)]\n",
    "    rect[2]=pts[np.argmax(pts_sum)]\n",
    "    \n",
    "    pts_diff=np.diff(pts,axis=1)\n",
    "    rect[1]=pts[np.argmin(pts_diff)]\n",
    "    rect[3]=pts[np.argmax(pts_diff)]\n",
    "    \n",
    "    return rect"
   ]
  },
  {
   "cell_type": "code",
   "execution_count": 9,
   "metadata": {},
   "outputs": [],
   "source": [
    "def four_point_transform(image,pts):\n",
    "    rect=order_points(pts)\n",
    "    tl,tr,br,bl=rect\n",
    "    \n",
    "    widthA=np.sqrt((tl[0]-tr[0])**2+(tl[1]-tr[1])**2)\n",
    "    widthB=np.sqrt((bl[0]-br[0])**2+(bl[1]-br[1])**2)\n",
    "    \n",
    "    width=max(int(widthA),int(widthB))\n",
    "    \n",
    "    heightA=np.sqrt((tl[0]-bl[0])**2+(tl[1]-bl[1])**2)\n",
    "    heightB=np.sqrt((tr[0]-br[0])**2+(br[1]-tr[1])**2)\n",
    "    \n",
    "    height=max(int(heightA),int(heightB))\n",
    "    \n",
    "    dst = np.array([\n",
    "        [0, 0],\n",
    "        [width - 1, 0],\n",
    "        [width - 1, height - 1],\n",
    "        [0, height - 1]], dtype = \"float32\")\n",
    "\n",
    "    M = cv2.getPerspectiveTransform(rect, dst)\n",
    "    warped = cv2.warpPerspective(image, M, (width, height))\n",
    "    \n",
    "    return warped\n",
    "\n"
   ]
  },
  {
   "cell_type": "code",
   "execution_count": 10,
   "metadata": {},
   "outputs": [],
   "source": [
    "cap=cv2.VideoCapture(0)\n",
    "\n",
    "while True:\n",
    "    \n",
    "    ret,img=cap.read()\n",
    "    ratio=img.shape[0]/500\n",
    "    orig=img.copy()\n",
    "    warped=img.copy()\n",
    "    \n",
    "    \n",
    "    gray=cv2.cvtColor(img,cv2.COLOR_BGR2GRAY)\n",
    "    blur=cv2.GaussianBlur(gray,(5,5),0)\n",
    "\n",
    "    edged=cv2.Canny(blur,75,200)\n",
    "    cnts,_=cv2.findContours(edged,cv2.RETR_LIST,cv2.CHAIN_APPROX_SIMPLE)\n",
    "    \n",
    "    contour = None\n",
    "    maxArea = 0\n",
    "    \n",
    "    for c in cnts:\n",
    "        area = cv2.contourArea(c)\n",
    "        \n",
    "        if area > 25000:\n",
    "            peri = cv2.arcLength(c, True)\n",
    "            polygon = cv2.approxPolyDP(c, 0.02*peri, True)\n",
    "            \n",
    "            if area>maxArea and len(polygon)==4:\n",
    "                contour = polygon\n",
    "                maxArea = area\n",
    "    \n",
    "    if contour is not None:\n",
    "        cv2.drawContours(img,[contour],-1,(0,255,0),2)\n",
    "        warped = four_point_transform(img, contour.reshape(4, 2))\n",
    "        warped = cv2.cvtColor(warped, cv2.COLOR_BGR2GRAY)\n",
    "        T = threshold_local(warped, 11, offset = 10, method = \"gaussian\")\n",
    "        warped = (warped > T).astype(\"uint8\") * 255\n",
    "        cv2.imshow(\"result\",warped)\n",
    "        \n",
    "    \n",
    "    cv2.imshow(\"Original\", img)\n",
    "    \n",
    "    if cv2.waitKey(30) & 0xFF==ord('q'):\n",
    "        break\n",
    "\n",
    "cap.release()\n",
    "cv2.destroyAllWindows()\n",
    "    \n",
    "    "
   ]
  }
 ],
 "metadata": {
  "kernelspec": {
   "display_name": "Python 3",
   "language": "python",
   "name": "python3"
  },
  "language_info": {
   "codemirror_mode": {
    "name": "ipython",
    "version": 3
   },
   "file_extension": ".py",
   "mimetype": "text/x-python",
   "name": "python",
   "nbconvert_exporter": "python",
   "pygments_lexer": "ipython3",
   "version": "3.6.9"
  }
 },
 "nbformat": 4,
 "nbformat_minor": 2
}
